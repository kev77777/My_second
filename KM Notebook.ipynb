{
    "cells": [
        {
            "cell_type": "markdown",
            "metadata": {},
            "source": "# Description:Test_x"
        },
        {
            "cell_type": "code",
            "execution_count": 1,
            "metadata": {},
            "outputs": [
                {
                    "data": {
                        "text/html": "<div>\n<style scoped>\n    .dataframe tbody tr th:only-of-type {\n        vertical-align: middle;\n    }\n\n    .dataframe tbody tr th {\n        vertical-align: top;\n    }\n\n    .dataframe thead th {\n        text-align: right;\n    }\n</style>\n<table border=\"1\" class=\"dataframe\">\n  <thead>\n    <tr style=\"text-align: right;\">\n      <th></th>\n      <th>id</th>\n      <th>lat</th>\n      <th>lon</th>\n      <th>obs_date</th>\n    </tr>\n  </thead>\n  <tbody>\n    <tr>\n      <th>0</th>\n      <td>388</td>\n      <td>37.941</td>\n      <td>140.946</td>\n      <td>08/13/1997 05:37:29</td>\n    </tr>\n    <tr>\n      <th>1</th>\n      <td>389</td>\n      <td>37.914</td>\n      <td>140.944</td>\n      <td>08/13/1997 06:23:41</td>\n    </tr>\n    <tr>\n      <th>2</th>\n      <td>390</td>\n      <td>37.929</td>\n      <td>140.923</td>\n      <td>08/13/1997 08:02:24</td>\n    </tr>\n    <tr>\n      <th>3</th>\n      <td>391</td>\n      <td>37.902</td>\n      <td>140.933</td>\n      <td>08/13/1997 16:19:49</td>\n    </tr>\n    <tr>\n      <th>4</th>\n      <td>392</td>\n      <td>37.904</td>\n      <td>140.925</td>\n      <td>08/13/1997 17:58:32</td>\n    </tr>\n  </tbody>\n</table>\n</div>",
                        "text/plain": "    id     lat      lon             obs_date\n0  388  37.941  140.946  08/13/1997 05:37:29\n1  389  37.914  140.944  08/13/1997 06:23:41\n2  390  37.929  140.923  08/13/1997 08:02:24\n3  391  37.902  140.933  08/13/1997 16:19:49\n4  392  37.904  140.925  08/13/1997 17:58:32"
                    },
                    "execution_count": 1,
                    "metadata": {},
                    "output_type": "execute_result"
                }
            ],
            "source": "# The code was removed by Watson Studio for sharing."
        },
        {
            "cell_type": "code",
            "execution_count": null,
            "metadata": {},
            "outputs": [],
            "source": ""
        }
    ],
    "metadata": {
        "kernelspec": {
            "display_name": "Python 3.7",
            "language": "python",
            "name": "python3"
        },
        "language_info": {
            "codemirror_mode": {
                "name": "ipython",
                "version": 3
            },
            "file_extension": ".py",
            "mimetype": "text/x-python",
            "name": "python",
            "nbconvert_exporter": "python",
            "pygments_lexer": "ipython3",
            "version": "3.7.9"
        }
    },
    "nbformat": 4,
    "nbformat_minor": 1
}